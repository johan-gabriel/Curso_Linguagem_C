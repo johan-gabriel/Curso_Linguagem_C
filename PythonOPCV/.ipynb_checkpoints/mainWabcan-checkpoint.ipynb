{
 "cells": [
  {
   "cell_type": "code",
   "execution_count": 1,
   "id": "532e413a",
   "metadata": {},
   "outputs": [
    {
     "name": "stdout",
     "output_type": "stream",
     "text": [
      "Defaulting to user installation because normal site-packages is not writeableNote: you may need to restart the kernel to use updated packages.\n",
      "\n"
     ]
    },
    {
     "name": "stderr",
     "output_type": "stream",
     "text": [
      "ERROR: Could not find a version that satisfies the requirement pickle (from versions: none)\n",
      "ERROR: No matching distribution found for pickle\n"
     ]
    }
   ],
   "source": [
    "import cv2 # opencv\n",
    "import pickle # já é nativo do python\n",
    "import extrairGabarito as exG #arquivo externo feito pelo dev\n",
    "\n",
    "campos = []\n",
    "with open('campos.pkl','rb') as arquivo:# define a altura dos campos que seram verificados\n",
    "    campos = pickle.load(arquivo)\n",
    "    \n",
    "resp = []\n",
    "with open('resp.pkl','rb') as arquivo:#questão correspondente que cada campo possui\n",
    "    resp = pickle.load(arquivo)\n",
    "    \n",
    "respostasCorretas = [\"1-A\",\"2-C\",\"3-B\",\"4-D\",\"5-A\"]#gabarito correto\n",
    "\n",
    "video = cv2.videoCapture(0)#começa  a captura do video\n",
    "\n",
    "while True:\n",
    "    _ , imagem = video.read()# faz a leitura\n",
    "    imagem = cv2.resize(imagem, (600,700)) #redimenciona a imagem\n",
    "    gabarito,bbox = exG.extrairMaiorCtn(imagem)#acha a imagem do gabarito (gabarito) e a posição (bbox)\n",
    "    imgGray = cv2.cvtColor(gabarito, cv2.COLOR_BGR2GRAY)\n",
    "    ret, imgTh = cv2.thresold(imgGray, 70, 255, cv2.THRESH_BINARY_INV)\n",
    "    cv2.rectangle(imagem,(bbox[0],bbox[1]),(bbox[0]+bbox[2],bbox[1]+bbox[3]),(0,255,0),3)\n",
    "    \n",
    "    respostas = []\n",
    "    for id,vg in enumerate(campos):\n",
    "        x = int(vg[0])\n",
    "        y = int(vg[1])\n",
    "        w = int(vg[2])\n",
    "        h = int(vg[3])\n",
    "        cv2.rectangle(gabarito,(x,y),(x+w, y+h),(0,0,255),2)\n",
    "        cv2.rectangle(imgTh,(x,y),(x+w, y+h),(255,255,255),1)\n",
    "        campo = imgTh[y:y + h, x:x + w]\n",
    "        height, width = campo.shape[:2]\n",
    "        tamanho = height * width\n",
    "        pretos = cv2.countNonZero(campo)\n",
    "        percentual = round((pretos/tamanho)*100,2)\n",
    "        if percentual >=15:\n",
    "            cv2.rectangle(gabarito,(x,y),(x+w, y+h),(255,0,0),2)\n",
    "            respostas.append(resp[id])\n",
    "            \n",
    "        erros = 0\n",
    "        acertos = 0\n",
    "        if len(respostas)==len(respostasCorretas):\n",
    "            for num, res in enumerate(respostas):\n",
    "                if res == respostasCorretas[num]:\n",
    "                    acertos+=1\n",
    "                else:\n",
    "                    erros+=1\n",
    "            pontuacao = int(acertos*6)\n",
    "            cv2.putText(imagem, f'ACERTOS: {acertos}, PONTOS: {pontuacao}',(30,140),cv2.FONT_HERSHEY_SIMPLEX,1.2,(0,0,255),3)\n",
    "        cv2.imshow('img', imagem)\n",
    "        cv2.imshow('Gabarito',gabarito)\n",
    "        cv2.imshow('IMG TH',imgTh)\n",
    "        cv2.waitKey(1)"
   ]
  },
  {
   "cell_type": "code",
   "execution_count": null,
   "id": "a8fbc259",
   "metadata": {},
   "outputs": [],
   "source": []
  }
 ],
 "metadata": {
  "kernelspec": {
   "display_name": "Python 3 (ipykernel)",
   "language": "python",
   "name": "python3"
  },
  "language_info": {
   "codemirror_mode": {
    "name": "ipython",
    "version": 3
   },
   "file_extension": ".py",
   "mimetype": "text/x-python",
   "name": "python",
   "nbconvert_exporter": "python",
   "pygments_lexer": "ipython3",
   "version": "3.9.12"
  }
 },
 "nbformat": 4,
 "nbformat_minor": 5
}
