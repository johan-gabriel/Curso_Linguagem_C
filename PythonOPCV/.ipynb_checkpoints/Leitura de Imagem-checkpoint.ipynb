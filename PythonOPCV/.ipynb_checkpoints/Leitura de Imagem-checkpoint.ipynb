{
 "cells": [
  {
   "cell_type": "code",
   "execution_count": 2,
   "id": "e572fd60",
   "metadata": {},
   "outputs": [
    {
     "name": "stdout",
     "output_type": "stream",
     "text": [
      "Coe Lira, tudo certo?\n",
      "\n",
      "Entado, eu queria te dar um aviso.\n",
      "\n",
      "Essas aulas tao brabas.\n",
      "\n",
      "Abracao\n",
      "\n"
     ]
    }
   ],
   "source": [
    "import pytesseract\n",
    "import cv2\n",
    "\n",
    "#Ler a imagem\n",
    "imagem = cv2.imread(\"email.JPG\")\n",
    "caminho = r\"C:\\Program Files\\Tesseract-OCR\"\n",
    "# pedir pro tesseract extrair o texto da imagem\n",
    "pytesseract.pytesseract.tesseract_cmd = caminho + r\"\\tesseract.exe\"\n",
    "\n",
    "texto = pytesseract.image_to_string(imagem, lang = \"por\")\n",
    "\n",
    "print(texto)"
   ]
  },
  {
   "cell_type": "code",
   "execution_count": null,
   "id": "6c52cdd2",
   "metadata": {},
   "outputs": [],
   "source": []
  }
 ],
 "metadata": {
  "kernelspec": {
   "display_name": "Python 3 (ipykernel)",
   "language": "python",
   "name": "python3"
  },
  "language_info": {
   "codemirror_mode": {
    "name": "ipython",
    "version": 3
   },
   "file_extension": ".py",
   "mimetype": "text/x-python",
   "name": "python",
   "nbconvert_exporter": "python",
   "pygments_lexer": "ipython3",
   "version": "3.9.12"
  }
 },
 "nbformat": 4,
 "nbformat_minor": 5
}
