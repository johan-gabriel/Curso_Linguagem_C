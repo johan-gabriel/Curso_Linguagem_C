{
 "cells": [
  {
   "cell_type": "code",
   "execution_count": null,
   "id": "aa78e341",
   "metadata": {},
   "outputs": [],
   "source": [
    "import cv2\n",
    "import numpy as np\n",
    "\n",
    "def extrairMaiorCtn(img):\n",
    "    imgGray = cv2.cvtColor(img,cv2.COLOR_BGR2GRAY)# Transforma em Gray (Cinza)\n",
    "    imgTh = cv2.adaptiveThreshold(imgGray ,255, cv2.ADAPTIVE_THRESH_GAUSSIAN_C,cv2.THRESH_BINARY_INV,11,12)#adaptativo por conta de caso de sombra.\n",
    "    kernel = np.ones((2,2), np.uint8)#serve para dilatar os pixels\n",
    "    imgDil = cv2.dilate(imgTh, kernel)#dilata os pixels da imagem\n",
    "                    #funcção para achar contornos com o OpenCV\n",
    "    contours, hi  = cv2.findContours(imgDil,cv2.RETR_EXTERNAL, cv2.CHAIN_APPROX_NONE)\n",
    "    \n",
    "    #para achar o maior controno que tem, pegando a área.\n",
    "    maiorCtn = max(contours, key = cv2.contourArea)\n",
    "    x,y,w,h = cv2.boundingRect(maiorCtn)\n",
    "    bbox = [x,y,w,h]\n",
    "    recorte = img[y:y+h,x:x+w]\n",
    "    recorte = cv2.resize(recorte(400,500))# o box de contorno que está achando o gabarito inteiro.\n",
    "    \n",
    "    return recorte,bbox"
   ]
  }
 ],
 "metadata": {
  "kernelspec": {
   "display_name": "Python 3 (ipykernel)",
   "language": "python",
   "name": "python3"
  },
  "language_info": {
   "codemirror_mode": {
    "name": "ipython",
    "version": 3
   },
   "file_extension": ".py",
   "mimetype": "text/x-python",
   "name": "python",
   "nbconvert_exporter": "python",
   "pygments_lexer": "ipython3",
   "version": "3.9.12"
  }
 },
 "nbformat": 4,
 "nbformat_minor": 5
}
